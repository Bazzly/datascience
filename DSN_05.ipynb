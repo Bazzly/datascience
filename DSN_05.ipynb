{
 "cells": [
  {
   "cell_type": "code",
   "execution_count": 42,
   "metadata": {},
   "outputs": [],
   "source": [
    "from sklearn.linear_model import LinearRegression\n",
    "from xgboost import XGBRegressor\n",
    "from sklearn.tree import DecisionTreeRegressor\n",
    "from sklearn.model_selection import train_test_split\n",
    "from sklearn.preprocessing import LabelEncoder\n",
    "import numpy as np\n",
    "import pandas as pd\n",
    "import seaborn as sns\n",
    "import matplotlib.pyplot as mlt\n",
    "%matplotlib inline\n",
    "from sklearn.metrics import mean_squared_error,r2_score\n"
   ]
  },
  {
   "cell_type": "code",
   "execution_count": 43,
   "metadata": {},
   "outputs": [],
   "source": [
    "test = pd.read_csv(\"data/test.csv\")\n",
    "train = pd.read_csv(\"data/train.csv\")"
   ]
  },
  {
   "cell_type": "code",
   "execution_count": 44,
   "metadata": {},
   "outputs": [
    {
     "data": {
      "text/plain": [
       "PassengerId      0\n",
       "Pclass           0\n",
       "Name             0\n",
       "Sex              0\n",
       "Age             86\n",
       "SibSp            0\n",
       "Parch            0\n",
       "Ticket           0\n",
       "Fare             1\n",
       "Cabin          327\n",
       "Embarked         0\n",
       "dtype: int64"
      ]
     },
     "execution_count": 44,
     "metadata": {},
     "output_type": "execute_result"
    }
   ],
   "source": [
    "test.isnull().sum()"
   ]
  },
  {
   "cell_type": "code",
   "execution_count": 72,
   "metadata": {},
   "outputs": [],
   "source": [
    "test['Age'].fillna(test.Age.mean(),inplace=True)\n",
    "test['Cabin'].fillna('Unknown',inplace=True)\n",
    "test['Embarked'].fillna(test.Embarked.mode,inplace=True)\n",
    "test['Fare'].fillna(test.Fare.mode,inplace=True)"
   ]
  },
  {
   "cell_type": "code",
   "execution_count": 73,
   "metadata": {},
   "outputs": [
    {
     "name": "stdout",
     "output_type": "stream",
     "text": [
      "<class 'pandas.core.frame.DataFrame'>\n",
      "RangeIndex: 418 entries, 0 to 417\n",
      "Data columns (total 11 columns):\n",
      " #   Column       Non-Null Count  Dtype  \n",
      "---  ------       --------------  -----  \n",
      " 0   PassengerId  418 non-null    int64  \n",
      " 1   Pclass       418 non-null    int64  \n",
      " 2   Name         418 non-null    int64  \n",
      " 3   Sex          418 non-null    int64  \n",
      " 4   Age          418 non-null    float64\n",
      " 5   SibSp        418 non-null    int64  \n",
      " 6   Parch        418 non-null    int64  \n",
      " 7   Ticket       418 non-null    int64  \n",
      " 8   Fare         418 non-null    int64  \n",
      " 9   Cabin        418 non-null    object \n",
      " 10  Embarked     418 non-null    int64  \n",
      "dtypes: float64(1), int64(9), object(1)\n",
      "memory usage: 36.0+ KB\n"
     ]
    }
   ],
   "source": [
    "test.info()"
   ]
  },
  {
   "cell_type": "code",
   "execution_count": 67,
   "metadata": {},
   "outputs": [
    {
     "data": {
      "text/plain": [
       "PassengerId      int64\n",
       "Pclass           int64\n",
       "Name             int64\n",
       "Sex              int64\n",
       "Age            float64\n",
       "SibSp            int64\n",
       "Parch            int64\n",
       "Ticket           int64\n",
       "Fare             int64\n",
       "Cabin           object\n",
       "Embarked         int64\n",
       "dtype: object"
      ]
     },
     "execution_count": 67,
     "metadata": {},
     "output_type": "execute_result"
    }
   ],
   "source": [
    "le = LabelEncoder()\n",
    "test['Name'] = le.fit_transform(test['Name'].astype(str))\n",
    "test['Sex'] = le.fit_transform(test['Sex'].astype(str))\n",
    "test['Ticket'] = le.fit_transform(test['Ticket'].astype(str))\n",
    "test['Fare'] = le.fit_transform(test['Fare'].astype(str))\n",
    "test['Embarked'] = le.fit_transform(test['Embarked'].astype(str))\n",
    "test['Cabin'] = le.fit_transform(test['Cabin'].astype(str))\n",
    "# test[i].str.replace('\\u2010', '-', regex=False).astype(float)\n",
    "test.dtypes\n"
   ]
  }
 ],
 "metadata": {
  "interpreter": {
   "hash": "126ce9089c18e3a0cedda0f8e88b8cbd678c70ab170e95ad90c1135dde277dc4"
  },
  "kernelspec": {
   "display_name": "Python 3.8.12 ('devenv': venv)",
   "language": "python",
   "name": "python3"
  },
  "language_info": {
   "codemirror_mode": {
    "name": "ipython",
    "version": 3
   },
   "file_extension": ".py",
   "mimetype": "text/x-python",
   "name": "python",
   "nbconvert_exporter": "python",
   "pygments_lexer": "ipython3",
   "version": "3.8.12"
  },
  "orig_nbformat": 4
 },
 "nbformat": 4,
 "nbformat_minor": 2
}
